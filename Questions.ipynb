{
  "nbformat": 4,
  "nbformat_minor": 0,
  "metadata": {
    "colab": {
      "private_outputs": true,
      "provenance": []
    },
    "kernelspec": {
      "name": "python3",
      "display_name": "Python 3"
    },
    "language_info": {
      "name": "python"
    }
  },
  "cells": [
    {
      "cell_type": "markdown",
      "source": [
        "# QUESTIONS"
      ],
      "metadata": {
        "id": "ck95pfUy6miY"
      }
    },
    {
      "cell_type": "markdown",
      "source": [
        "Q1. HOW MANY RESTAURANTS HAVE A RATING GREATER THAN 4.5?\n",
        "\n",
        "\n",
        "Q2. WHICH IS THE TOP 1 CITY WITH THE HIGHEST NUMBER OF RESTAURANTS?\n",
        "\n",
        "\n",
        "Q3. HOW MANY RESTAURANTS HAVE THE WORD \"PIZZA\" IN THEIR NAME?\n",
        "\n",
        "\n",
        "Q4. WHAT IS THE MOST COMMON CUISINE AMONG THE RESTAURANTS IN THE DATASET?\n",
        "\n",
        "\n",
        "Q5. WHAT IS THE AVERAGE RATING OF RESTAURANTS IN EACH CITY?\n",
        "\n",
        "\n",
        "Q6. WHAT IS THE HIGHEST PRICE OF ITEM UNDER THE 'RECOMMENDED' MENU\n",
        "CATEGORY FOR EACH RESTAURANT?\n",
        "\n",
        "\n",
        "Q7. MOST EXPENSIVE RESTAURANTS THAT OFFER CUISINE OTHER THAN\n",
        "INDIAN CUISINE.\n",
        "\n",
        "\n",
        "Q8. FIND THE RESTAURANTS THAT HAVE AN AVERAGE COST WHICH IS HIGHER THAN THE\n",
        "TOTAL AVERAGE COST OF ALL RESTAURANTS TOGETHER.\n",
        "\n",
        "\n",
        "Q9.RETRIEVE THE DETAILS OF RESTAURANTS THAT HAVE THE SAME NAME BUT ARE\n",
        "LOCATED IN DIFFERENT CITIES.\n",
        "\n",
        "Q10. WHICH RESTAURANT OFFERS THE MOST NUMBER OF ITEMS IN THE 'MAIN COURSE'\n",
        "CATEGORY?\n",
        "\n",
        "\n",
        "Q11. LIST THE NAMES OF RESTAURANTS THAT ARE 100% VEGEATARIAN IN\n",
        "ALPHABETICAL ORDER OF RESTAURANT NAME.\n",
        "\n",
        "\n",
        "Q12. WHICH IS THE RESTAURANT PROVIDING THE LOWEST AVERAGE PRICE FOR ALL ITEMS?\n",
        "\n",
        "\n",
        "Q13. WHICH TOP 5 RESTAURANT OFFERS HIGHEST NUMBER OF CATEGORIES?\n",
        "\n",
        "\n",
        "Q14. WHICH RESTAURANT PROVIDES THE HIGHEST PERCENTAGE OF NON-VEGEATARIAN FOOD?\n",
        "\n"
      ],
      "metadata": {
        "id": "Bg1rk3P-6xcm"
      }
    },
    {
      "cell_type": "markdown",
      "source": [],
      "metadata": {
        "id": "PoStqVyl85ea"
      }
    }
  ]
}