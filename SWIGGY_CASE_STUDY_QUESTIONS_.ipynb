{
  "nbformat": 4,
  "nbformat_minor": 0,
  "metadata": {
    "colab": {
      "private_outputs": true,
      "provenance": []
    },
    "kernelspec": {
      "name": "python3",
      "display_name": "Python 3"
    },
    "language_info": {
      "name": "python"
    }
  },
  "cells": [
    {
      "cell_type": "markdown",
      "source": [
        "# Case Study Analysis Questions"
      ],
      "metadata": {
        "id": "zy4hLlD1Kyvt"
      }
    },
    {
      "cell_type": "markdown",
      "source": [
        "Q1. How many orders were placed on Swiggy last month?\n",
        "\n",
        "Q2. Which restaurant received the most orders in the last quarter?\n",
        "\n",
        "Q3. What is the total revenue generated from orders in the last six months?\n",
        "\n",
        "Q4. How many active users placed orders in the last month?\n",
        "\n",
        "Q5.Which users placed the most orders in the last month along with their total order count?\n",
        "\n",
        "Q6.For each day of the last month, calculate the percentage of orders placed via the Swiggy website.\n",
        "\n",
        "Q7.List the top 5 users who spent the most on orders in the last month, along with their total spending.\n",
        "\n",
        "Q8. Find the names of users who have placed orders from restaurants located in a city different from their own, along with the names of the restaurants and the cities they ordered from.\n",
        "\n",
        "Q9. List the names of users along with their total spending (revenue generated from their orders) and the city they live in, sorted by total spending in descending order.\n",
        "\n",
        "Q10. Retrieve the order IDs along with the total amounts of the orders and the names of the users who placed those orders."
      ],
      "metadata": {
        "id": "fSPF_ENCK8uu"
      }
    }
  ]
}